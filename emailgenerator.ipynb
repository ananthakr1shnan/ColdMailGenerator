{
 "cells": [
  {
   "cell_type": "code",
   "execution_count": 2,
   "metadata": {},
   "outputs": [
    {
     "name": "stdout",
     "output_type": "stream",
     "text": [
      "The capital of France is Paris.\n"
     ]
    }
   ],
   "source": [
    "from langchain_groq import ChatGroq\n",
    "llm = ChatGroq(\n",
    "       temperature=0,\n",
    "       groq_api_key='api_key',\n",
    "       model_name=\"llama-3.1-70b-versatile\"   \n",
    ")\n",
    "response = llm.invoke(\"What is the capital of France?\")\n",
    "print(response.content)"
   ]
  },
  {
   "cell_type": "code",
   "execution_count": 11,
   "metadata": {},
   "outputs": [
    {
     "name": "stdout",
     "output_type": "stream",
     "text": [
      "Apply for Director, Sports Marketing Business Affairs EMEA\n",
      "\n",
      "Search JobsSkip navigationSearch JobsNIKE, INC. JOBSContract JobsJoin The Talent CommunityLife @ NikeOverviewBenefitsBrandsOverviewJordanConverseTeamsOverviewAdministrative SupportAdvanced InnovationAir Manufacturing InnovationAviationCommunicationsCustomer ServiceDesignDigitalFacilitiesFinance & AccountingGovernment & Public AffairsHuman ResourcesInsights & AnalyticsLegalManufacturing & EngineeringMarketingMerchandisingPlanningPrivacyProcurementProduct Creation, Development & ManagementRetail CorporateRetail StoresSalesSocial & Community ImpactSports MarketingStrategic PlanningSupply Chain, Distribution & LogisticsSustainabilityTechnologyLocationsOverviewNike WHQNike New York HQEHQ: Hilversum, The NetherlandsELC: Laakdal, BelgiumGreater China HQDiversity, Equity & InclusionOverviewMilitary InclusionDisability InclusionIndigenous InclusionInternshipsSports MarketingDirector, Sports Marketing Business Affairs EMEAHilversum, North HollandBecome a Part of the NIKE, Inc. TeamNIKE, Inc. does more than outfit the world’s best athletes. It is a place to explore potential, obliterate boundaries and push out the edges of what can be. The company looks for people who can grow, think, dream and create. Its culture thrives by embracing diversity and rewarding imagination. The brand seeks achievers, leaders and visionaries. At NIKE, Inc. it’s about each person bringing skills and passion to a challenging and constantly evolving game.NIKE, Inc. exists to innovate for athletes. Nike Sports Marketing professionals provide the vital linkage between the company and Nike-sponsored athletes, clubs and federations worldwide. Sports Marketing employees partner with premier athletes to collect insights about existing and future products, gather inspirational stories about sport and nurture long-term relationships between the athletes and the company. The team develops and executes sports marketing strategies, obtains endorsements and licensing agreements and serves as Nike ambassadors to the sports community worldwide. Their relationships build the foundation of Nike’s product creation: Nike creates exceptional products because its employees listen to exceptional athletes.Nike exists to innovate and serve athletes. Nike Sports Marketing (SM) professionals provide the vital linkage between the company and Nike-sponsored athletes, clubs and federations worldwide. Sports Marketing employees partner with premier athletes to collect insights about existing and future products, gather inspirational stories about sport, and nurture long-term relationships between the athletes and the company. The team develops and implements Sports Marketing strategies, obtains endorsements and licensing agreements, and provides meaningful services & experiences to the best athletes in the world.WHO YOU WILL WORK WITHYou will report to the Senior Director, Sports Marketing, Business Affairs and Operations, and you will work closely with the senior leadership, as well as external consultants, and cross-functional teams across Nike in the Geo and the Cities.This role is meant to be the liaison between Sports Marketing and other corporate functions such as Tech, Consumer Insights, Finance, and Brand to ensure that processes are effectively integrated and aligned with the rest of the organisations.WHO WE ARE LOOKING FORBased in the EHQ, we are looking for a newly created role in the Business Affairs and Operations team in SM EMEA to support key negotiations through financial analysis and data insights within the function.You have proven experience in the Sports Marketing industry, Finance Management and Analysis and you have led cross-funcional projects in the Tech and Finance space. You have worked in complex environments and you have been able to build strong relationships and manage a large variety of stakeholders successfully.A successful candidate will clearly demonstrate experience of the below crucial requirements to be considered for this role:Strong understanding and experience of different industries such as Sports, Finance and Analytics.Proven track record in Finance Management and Project Leadership.Experience managing and engaging remote teams successfully.Servant leadership style.Deep knowledge in analytics and data-driven decision-making.Proven experience in designing and rolling out custom software solutions for the business.Previous exposure working with senior leadership teams, drive and lead cross-functional projects and complex partnerships.Deep understanding of sports landscape and sponsorships.WHAT YOU WILL WORK ON As our Director, Sports Marketing, Business Affairs EMEA, you will be a key player in supporting key negotiations, drive creation of tools and processes to enable data-driven decision-making, and ensuring seamless integration of sports marketing across the broader organisation. You will oversee three critical areas in the function:Business Affairs: you will support the Sports Marketing team for negotiations , evaluation and analysis on maximising partnership valueInsights and Analytics: you will manage one direct report as well as external consultants who will to design, build and maintain the SM data ecosystem. Also, you will provide actionable insights to empower the teams to make informed decisions as well as optimise our SM portfolio.Project Management: you will oversee the development of custom SM Tech tools and translate business requirements to Tech development needs.Application deadline: 9th of October 2024.NIKE, Inc. is a growth company that looks for team members to grow with it. Nike offers a generous total rewards package, casual work environment, a diverse and inclusive culture, and an electric atmosphere for professional development. No matter the location, or the role, every Nike employee shares one galvanizing mission: To bring inspiration and innovation to every athlete* in the world.NIKE, Inc. is committed to employing a diverse workforce. Qualified applicants will receive consideration without regard to race, color, religion, sex, national origin, age, sexual orientation, gender identity, gender expression, veteran status, or disability.How We HireAt NIKE, Inc. we promise to provide a premium, inclusive, compelling and authentic candidate experience. Delivering on this promise means we allow you to be at your best — and to do that, you need to understand how the hiring process works. Transparency is key.\n",
      "\n",
      "* This overview explains our hiring process for corporate roles. Note there may be different hiring steps involved for non-corporate roles.Start nowBenefitsWhether it’s transportation or financial health, we continually invest in our employees to help them achieve greatness — inside and outside of work. All who work here should be able to realize their full potential.Employee Assistance ProgramEmployee Stock Purchase Plan (ESPP)HolidaysMedical PlanPaid Time Off (PTO)Product DiscountsSabbaticalsLearn moreFIND A STOREBECOME A MEMBERSIGN UP FOR EMAILSEND US FEEDBACKSTUDENT DISCOUNTSGET HELPGET HELPOrder StatusDeliveryReturnsPayment OptionsContact Us On Nike.com InquiriesContact Us On All Other InquiriesABOUT NIKEABOUT NIKENewsCareersInvestorsSustainabilityIndia© 2024 Nike, Inc. All Rights ReservedGuidesNike AdaptNike Air MaxNike FlyleatherNike PegasusNike Zoom FlyNike AirNike FlyEaseNike FreeNike ReactNike ZoomXNike Air Force 1Nike FlyknitNike JoyrideNike VaporflyTerms of SaleTerms of UseNike Privacy Policy\n"
     ]
    }
   ],
   "source": [
    "from langchain_community.document_loaders import WebBaseLoader\n",
    "loader=WebBaseLoader(\"https://jobs.nike.com/job/R-37921\")\n",
    "page_data=loader.load().pop().page_content\n",
    "print(page_data)"
   ]
  },
  {
   "cell_type": "code",
   "execution_count": 21,
   "metadata": {},
   "outputs": [
    {
     "name": "stdout",
     "output_type": "stream",
     "text": [
      "```\n",
      "{\n",
      "  \"role\": \"Director, Sports Marketing Business Affairs EMEA\",\n",
      "  \"experience\": \"Proven experience in the Sports Marketing industry, Finance Management and Analysis, and leading cross-functional projects in the Tech and Finance space\",\n",
      "  \"skills\": [\n",
      "    \"Strong understanding and experience of different industries such as Sports, Finance and Analytics\",\n",
      "    \"Proven track record in Finance Management and Project Leadership\",\n",
      "    \"Experience managing and engaging remote teams successfully\",\n",
      "    \"Servant leadership style\",\n",
      "    \"Deep knowledge in analytics and data-driven decision-making\",\n",
      "    \"Proven experience in designing and rolling out custom software solutions for the business\",\n",
      "    \"Previous exposure working with senior leadership teams, drive and lead cross-functional projects and complex partnerships\",\n",
      "    \"Deep understanding of sports landscape and sponsorships\"\n",
      "  ],\n",
      "  \"description\": \"Support key negotiations, drive creation of tools and processes to enable data-driven decision-making, and ensure seamless integration of sports marketing across the broader organisation. Oversee three critical areas in the function: Business Affairs, Insights and Analytics, and Project Management.\"\n",
      "}\n",
      "```\n"
     ]
    }
   ],
   "source": [
    "from langchain_core.prompts import PromptTemplate\n",
    "prompt_extract=PromptTemplate.from_template(\n",
    "    \"\"\"\n",
    "SCRAPED TEXT FROM WEBSITE:\n",
    "{page_data}\n",
    "INSTRUCTION:\n",
    "The scraped text is from the career's page of a website.\n",
    "Your job is to extract the job postings and return them in JSON format containing the\n",
    "following keys:\n",
    "role' ,\n",
    "experience'\n",
    "skills' and 'description' .\n",
    "Only return the valid JSON.\n",
    "VALID JSON (NO PREAMBLE):\n",
    "\n",
    "    \"\"\"\n",
    ")\n",
    "chain_extract = prompt_extract | llm\n",
    "res = chain_extract.invoke(input={'page_data':page_data})\n",
    "print(res.content)"
   ]
  },
  {
   "cell_type": "code",
   "execution_count": 13,
   "metadata": {},
   "outputs": [
    {
     "data": {
      "text/plain": [
       "{'role': 'Director, Sports Marketing Business Affairs EMEA',\n",
       " 'experience': 'Proven experience in the Sports Marketing industry, Finance Management and Analysis, and leading cross-functional projects in the Tech and Finance space',\n",
       " 'skills': ['Strong understanding and experience of different industries such as Sports, Finance and Analytics',\n",
       "  'Proven track record in Finance Management and Project Leadership',\n",
       "  'Experience managing and engaging remote teams successfully',\n",
       "  'Servant leadership style',\n",
       "  'Deep knowledge in analytics and data-driven decision-making',\n",
       "  'Proven experience in designing and rolling out custom software solutions for the business',\n",
       "  'Previous exposure working with senior leadership teams, drive and lead cross-functional projects and complex partnerships',\n",
       "  'Deep understanding of sports landscape and sponsorships'],\n",
       " 'description': 'Support key negotiations, drive creation of tools and processes to enable data-driven decision-making, and ensure seamless integration of sports marketing across the broader organisation. Oversee three critical areas in the function: Business Affairs, Insights and Analytics, and Project Management.'}"
      ]
     },
     "execution_count": 13,
     "metadata": {},
     "output_type": "execute_result"
    }
   ],
   "source": [
    "\n",
    "from langchain_core.output_parsers import JsonOutputParser\n",
    "json_parser = JsonOutputParser()\n",
    "json_res=json_parser.parse(res.content)\n",
    "json_res "
   ]
  },
  {
   "cell_type": "code",
   "execution_count": 14,
   "metadata": {},
   "outputs": [
    {
     "data": {
      "text/html": [
       "<div>\n",
       "<style scoped>\n",
       "    .dataframe tbody tr th:only-of-type {\n",
       "        vertical-align: middle;\n",
       "    }\n",
       "\n",
       "    .dataframe tbody tr th {\n",
       "        vertical-align: top;\n",
       "    }\n",
       "\n",
       "    .dataframe thead th {\n",
       "        text-align: right;\n",
       "    }\n",
       "</style>\n",
       "<table border=\"1\" class=\"dataframe\">\n",
       "  <thead>\n",
       "    <tr style=\"text-align: right;\">\n",
       "      <th></th>\n",
       "      <th>Techstack</th>\n",
       "      <th>Links</th>\n",
       "    </tr>\n",
       "  </thead>\n",
       "  <tbody>\n",
       "    <tr>\n",
       "      <th>0</th>\n",
       "      <td>React, Node.js, MongoDB</td>\n",
       "      <td>https://example.com/react-portfolio</td>\n",
       "    </tr>\n",
       "    <tr>\n",
       "      <th>1</th>\n",
       "      <td>Angular,.NET, SQL Server</td>\n",
       "      <td>https://example.com/angular-portfolio</td>\n",
       "    </tr>\n",
       "    <tr>\n",
       "      <th>2</th>\n",
       "      <td>Vue.js, Ruby on Rails, PostgreSQL</td>\n",
       "      <td>https://example.com/vue-portfolio</td>\n",
       "    </tr>\n",
       "    <tr>\n",
       "      <th>3</th>\n",
       "      <td>Python, Django, MySQL</td>\n",
       "      <td>https://example.com/python-portfolio</td>\n",
       "    </tr>\n",
       "    <tr>\n",
       "      <th>4</th>\n",
       "      <td>Java, Spring Boot, Oracle</td>\n",
       "      <td>https://example.com/java-portfolio</td>\n",
       "    </tr>\n",
       "    <tr>\n",
       "      <th>5</th>\n",
       "      <td>Flutter, Firebase, GraphQL</td>\n",
       "      <td>https://example.com/flutter-portfolio</td>\n",
       "    </tr>\n",
       "    <tr>\n",
       "      <th>6</th>\n",
       "      <td>WordPress, PHP, MySQL</td>\n",
       "      <td>https://example.com/wordpress-portfolio</td>\n",
       "    </tr>\n",
       "    <tr>\n",
       "      <th>7</th>\n",
       "      <td>Magento, PHP, MySQL</td>\n",
       "      <td>https://example.com/magento-portfolio</td>\n",
       "    </tr>\n",
       "    <tr>\n",
       "      <th>8</th>\n",
       "      <td>React Native, Node.js, MongoDB</td>\n",
       "      <td>https://example.com/react-native-portfolio</td>\n",
       "    </tr>\n",
       "    <tr>\n",
       "      <th>9</th>\n",
       "      <td>iOS, Swift, Core Data</td>\n",
       "      <td>https://example.com/ios-portfolio</td>\n",
       "    </tr>\n",
       "    <tr>\n",
       "      <th>10</th>\n",
       "      <td>Android, Java, Room Persistence</td>\n",
       "      <td>https://example.com/android-portfolio</td>\n",
       "    </tr>\n",
       "    <tr>\n",
       "      <th>11</th>\n",
       "      <td>Kotlin, Android, Firebase</td>\n",
       "      <td>https://example.com/kotlin-android-portfolio</td>\n",
       "    </tr>\n",
       "    <tr>\n",
       "      <th>12</th>\n",
       "      <td>Android TV, Kotlin, Android NDK</td>\n",
       "      <td>https://example.com/android-tv-portfolio</td>\n",
       "    </tr>\n",
       "    <tr>\n",
       "      <th>13</th>\n",
       "      <td>iOS, Swift, ARKit</td>\n",
       "      <td>https://example.com/ios-ar-portfolio</td>\n",
       "    </tr>\n",
       "    <tr>\n",
       "      <th>14</th>\n",
       "      <td>Cross-platform, Xamarin, Azure</td>\n",
       "      <td>https://example.com/xamarin-portfolio</td>\n",
       "    </tr>\n",
       "    <tr>\n",
       "      <th>15</th>\n",
       "      <td>Backend, Kotlin, Spring Boot</td>\n",
       "      <td>https://example.com/kotlin-backend-portfolio</td>\n",
       "    </tr>\n",
       "    <tr>\n",
       "      <th>16</th>\n",
       "      <td>Frontend, TypeScript, Angular</td>\n",
       "      <td>https://example.com/typescript-frontend-portfolio</td>\n",
       "    </tr>\n",
       "    <tr>\n",
       "      <th>17</th>\n",
       "      <td>Full-stack, JavaScript, Express.js</td>\n",
       "      <td>https://example.com/full-stack-js-portfolio</td>\n",
       "    </tr>\n",
       "    <tr>\n",
       "      <th>18</th>\n",
       "      <td>Machine Learning, Python, TensorFlow</td>\n",
       "      <td>https://example.com/ml-python-portfolio</td>\n",
       "    </tr>\n",
       "    <tr>\n",
       "      <th>19</th>\n",
       "      <td>DevOps, Jenkins, Docker</td>\n",
       "      <td>https://example.com/devops-portfolio</td>\n",
       "    </tr>\n",
       "    <tr>\n",
       "      <th>20</th>\n",
       "      <td>Industry Experience</td>\n",
       "      <td>https://example.com/industry-experience</td>\n",
       "    </tr>\n",
       "    <tr>\n",
       "      <th>21</th>\n",
       "      <td>Finance Management</td>\n",
       "      <td>https://example.com/finance-management</td>\n",
       "    </tr>\n",
       "    <tr>\n",
       "      <th>22</th>\n",
       "      <td>Team Management</td>\n",
       "      <td>https://example.com/team-management</td>\n",
       "    </tr>\n",
       "    <tr>\n",
       "      <th>23</th>\n",
       "      <td>Leadership</td>\n",
       "      <td>https://example.com/leadership</td>\n",
       "    </tr>\n",
       "    <tr>\n",
       "      <th>24</th>\n",
       "      <td>Analytics</td>\n",
       "      <td>https://example.com/analytics</td>\n",
       "    </tr>\n",
       "    <tr>\n",
       "      <th>25</th>\n",
       "      <td>Software Solutions</td>\n",
       "      <td>https://example.com/software-solutions</td>\n",
       "    </tr>\n",
       "    <tr>\n",
       "      <th>26</th>\n",
       "      <td>Cross-Functional Leadership</td>\n",
       "      <td>https://example.com/cross-functional-leadership</td>\n",
       "    </tr>\n",
       "    <tr>\n",
       "      <th>27</th>\n",
       "      <td>Sports Knowledge</td>\n",
       "      <td>https://example.com/sports-knowledge</td>\n",
       "    </tr>\n",
       "  </tbody>\n",
       "</table>\n",
       "</div>"
      ],
      "text/plain": [
       "                               Techstack  \\\n",
       "0                React, Node.js, MongoDB   \n",
       "1               Angular,.NET, SQL Server   \n",
       "2      Vue.js, Ruby on Rails, PostgreSQL   \n",
       "3                  Python, Django, MySQL   \n",
       "4              Java, Spring Boot, Oracle   \n",
       "5             Flutter, Firebase, GraphQL   \n",
       "6                  WordPress, PHP, MySQL   \n",
       "7                    Magento, PHP, MySQL   \n",
       "8         React Native, Node.js, MongoDB   \n",
       "9                  iOS, Swift, Core Data   \n",
       "10       Android, Java, Room Persistence   \n",
       "11             Kotlin, Android, Firebase   \n",
       "12       Android TV, Kotlin, Android NDK   \n",
       "13                     iOS, Swift, ARKit   \n",
       "14        Cross-platform, Xamarin, Azure   \n",
       "15          Backend, Kotlin, Spring Boot   \n",
       "16         Frontend, TypeScript, Angular   \n",
       "17    Full-stack, JavaScript, Express.js   \n",
       "18  Machine Learning, Python, TensorFlow   \n",
       "19               DevOps, Jenkins, Docker   \n",
       "20                   Industry Experience   \n",
       "21                    Finance Management   \n",
       "22                       Team Management   \n",
       "23                            Leadership   \n",
       "24                             Analytics   \n",
       "25                    Software Solutions   \n",
       "26           Cross-Functional Leadership   \n",
       "27                      Sports Knowledge   \n",
       "\n",
       "                                                Links  \n",
       "0                 https://example.com/react-portfolio  \n",
       "1               https://example.com/angular-portfolio  \n",
       "2                   https://example.com/vue-portfolio  \n",
       "3                https://example.com/python-portfolio  \n",
       "4                  https://example.com/java-portfolio  \n",
       "5               https://example.com/flutter-portfolio  \n",
       "6             https://example.com/wordpress-portfolio  \n",
       "7               https://example.com/magento-portfolio  \n",
       "8          https://example.com/react-native-portfolio  \n",
       "9                   https://example.com/ios-portfolio  \n",
       "10              https://example.com/android-portfolio  \n",
       "11       https://example.com/kotlin-android-portfolio  \n",
       "12           https://example.com/android-tv-portfolio  \n",
       "13               https://example.com/ios-ar-portfolio  \n",
       "14              https://example.com/xamarin-portfolio  \n",
       "15       https://example.com/kotlin-backend-portfolio  \n",
       "16  https://example.com/typescript-frontend-portfolio  \n",
       "17        https://example.com/full-stack-js-portfolio  \n",
       "18            https://example.com/ml-python-portfolio  \n",
       "19               https://example.com/devops-portfolio  \n",
       "20            https://example.com/industry-experience  \n",
       "21             https://example.com/finance-management  \n",
       "22                https://example.com/team-management  \n",
       "23                     https://example.com/leadership  \n",
       "24                      https://example.com/analytics  \n",
       "25             https://example.com/software-solutions  \n",
       "26    https://example.com/cross-functional-leadership  \n",
       "27               https://example.com/sports-knowledge  "
      ]
     },
     "execution_count": 14,
     "metadata": {},
     "output_type": "execute_result"
    }
   ],
   "source": [
    "import pandas as pd\n",
    "df=pd.read_csv(\"my_portfolio.csv\")\n",
    "df"
   ]
  },
  {
   "cell_type": "code",
   "execution_count": 18,
   "metadata": {},
   "outputs": [
    {
     "name": "stderr",
     "output_type": "stream",
     "text": [
      "C:\\Users\\anant\\.cache\\chroma\\onnx_models\\all-MiniLM-L6-v2\\onnx.tar.gz: 100%|██████████| 79.3M/79.3M [00:43<00:00, 1.90MiB/s]\n"
     ]
    }
   ],
   "source": [
    "import chromadb\n",
    "import uuid\n",
    "client=chromadb.PersistentClient('vectorstore')\n",
    "collection=client.get_or_create_collection(name=\"portfolio\")\n",
    "if not collection.count():\n",
    "    for _,row in df.iterrows():\n",
    "        collection.add(\n",
    "            documents=row[\"Techstack\"],\n",
    "            metadatas={\"links\":row[\"Links\"]},\n",
    "            ids=[str(uuid.uuid4())]\n",
    "        )"
   ]
  },
  {
   "cell_type": "code",
   "execution_count": 19,
   "metadata": {},
   "outputs": [
    {
     "data": {
      "text/plain": [
       "['Strong understanding and experience of different industries such as Sports, Finance and Analytics',\n",
       " 'Proven track record in Finance Management and Project Leadership',\n",
       " 'Experience managing and engaging remote teams successfully',\n",
       " 'Servant leadership style',\n",
       " 'Deep knowledge in analytics and data-driven decision-making',\n",
       " 'Proven experience in designing and rolling out custom software solutions for the business',\n",
       " 'Previous exposure working with senior leadership teams, drive and lead cross-functional projects and complex partnerships',\n",
       " 'Deep understanding of sports landscape and sponsorships']"
      ]
     },
     "execution_count": 19,
     "metadata": {},
     "output_type": "execute_result"
    }
   ],
   "source": [
    "job = json_res\n",
    "job['skills']"
   ]
  },
  {
   "cell_type": "code",
   "execution_count": 20,
   "metadata": {},
   "outputs": [
    {
     "data": {
      "text/plain": [
       "[[{'links': 'https://example.com/sports-knowledge'},\n",
       "  {'links': 'https://example.com/industry-experience'}],\n",
       " [{'links': 'https://example.com/finance-management'},\n",
       "  {'links': 'https://example.com/leadership'}],\n",
       " [{'links': 'https://example.com/team-management'},\n",
       "  {'links': 'https://example.com/industry-experience'}],\n",
       " [{'links': 'https://example.com/leadership'},\n",
       "  {'links': 'https://example.com/cross-functional-leadership'}],\n",
       " [{'links': 'https://example.com/analytics'},\n",
       "  {'links': 'https://example.com/sports-knowledge'}],\n",
       " [{'links': 'https://example.com/software-solutions'},\n",
       "  {'links': 'https://example.com/industry-experience'}],\n",
       " [{'links': 'https://example.com/cross-functional-leadership'},\n",
       "  {'links': 'https://example.com/leadership'}],\n",
       " [{'links': 'https://example.com/sports-knowledge'},\n",
       "  {'links': 'https://example.com/industry-experience'}]]"
      ]
     },
     "execution_count": 20,
     "metadata": {},
     "output_type": "execute_result"
    }
   ],
   "source": [
    "links=collection.query(query_texts=job['skills'],n_results=2).get('metadatas',[])\n",
    "links"
   ]
  },
  {
   "cell_type": "code",
   "execution_count": 22,
   "metadata": {},
   "outputs": [
    {
     "name": "stdout",
     "output_type": "stream",
     "text": [
      "Subject: Unlock Seamless Integration of Sports Marketing with AtliQ's Expertise\n",
      "\n",
      "Dear [Hiring Manager's Name],\n",
      "\n",
      "I came across the job description for the Director, Sports Marketing Business Affairs EMEA role and was impressed by the organization's commitment to driving data-driven decision-making and seamless integration of sports marketing across the broader organization. As a Business Development Executive at AtliQ, I believe our expertise in AI & Software Consulting can help you achieve these goals.\n",
      "\n",
      "At AtliQ, we have a proven track record of empowering enterprises with tailored solutions that foster scalability, process optimization, cost reduction, and heightened overall efficiency. Our team has extensive experience in designing and rolling out custom software solutions for businesses, which aligns with your requirement for creating tools and processes to enable data-driven decision-making.\n",
      "\n",
      "Our expertise in analytics and data-driven decision-making can help you drive insights and analytics, while our experience in managing and engaging remote teams can support your project management needs. We have a deep understanding of the sports landscape and sponsorships, which can be leveraged to support key negotiations and drive creation of tools and processes.\n",
      "\n",
      "Some of our relevant portfolio highlights include:\n",
      "\n",
      "* [https://example.com/sports-knowledge](https://example.com/sports-knowledge) - Our expertise in sports knowledge and analytics\n",
      "* [https://example.com/industry-experience](https://example.com/industry-experience) - Our experience in working with various industries, including sports and finance\n",
      "* [https://example.com/analytics](https://example.com/analytics) - Our capabilities in analytics and data-driven decision-making\n",
      "* [https://example.com/software-solutions](https://example.com/software-solutions) - Our expertise in designing and rolling out custom software solutions for businesses\n",
      "\n",
      "I would love to schedule a call to discuss how AtliQ can support your organization in achieving its goals. Please let me know if you're available for a call this week or next.\n",
      "\n",
      "Best regards,\n",
      "\n",
      "Mohan\n",
      "Business Development Executive\n",
      "AtliQ\n"
     ]
    }
   ],
   "source": [
    "prompt_email=PromptTemplate.from_template(\n",
    "\n",
    "      \"\"\"\n",
    "        ### JOB DESCRIPTION:\n",
    "        {job_description}\n",
    "        \n",
    "        ### INSTRUCTION:\n",
    "        You are Mohan, a business development executive at AtliQ. AtliQ is an AI & Software Consulting company dedicated to facilitating\n",
    "        the seamless integration of business processes through automated tools. \n",
    "        Over our experience, we have empowered numerous enterprises with tailored solutions, fostering scalability, \n",
    "        process optimization, cost reduction, and heightened overall efficiency. \n",
    "        Your job is to write a cold email to the client regarding the job mentioned above describing the capability of AtliQ \n",
    "        in fulfilling their needs.\n",
    "        Also add the most relevant ones from the following links to showcase Atliq's portfolio: {link_list}\n",
    "        Remember you are Mohan, BDE at AtliQ. \n",
    "        Do not provide a preamble.\n",
    "        ### EMAIL (NO PREAMBLE):\n",
    "        \n",
    "        \"\"\"\n",
    ")\n",
    "chain_email = prompt_email | llm\n",
    "res = chain_email.invoke({'job_description':str(job),\"link_list\":links})\n",
    "print(res.content)"
   ]
  },
  {
   "cell_type": "code",
   "execution_count": null,
   "metadata": {},
   "outputs": [],
   "source": []
  }
 ],
 "metadata": {
  "kernelspec": {
   "display_name": "ml",
   "language": "python",
   "name": "python3"
  },
  "language_info": {
   "codemirror_mode": {
    "name": "ipython",
    "version": 3
   },
   "file_extension": ".py",
   "mimetype": "text/x-python",
   "name": "python",
   "nbconvert_exporter": "python",
   "pygments_lexer": "ipython3",
   "version": "3.12.2"
  }
 },
 "nbformat": 4,
 "nbformat_minor": 2
}
